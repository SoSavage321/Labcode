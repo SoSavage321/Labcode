{
  "cells": [
    {
      "cell_type": "markdown",
      "metadata": {
        "id": "view-in-github",
        "colab_type": "text"
      },
      "source": [
        "<a href=\"https://colab.research.google.com/github/SoSavage321/Labcode/blob/main/rawcode.ipynb\" target=\"_parent\"><img src=\"https://colab.research.google.com/assets/colab-badge.svg\" alt=\"Open In Colab\"/></a>"
      ]
    },
    {
      "cell_type": "code",
      "execution_count": 8,
      "id": "b9a881c0-ee9f-43f0-9553-9b252813e3c9",
      "metadata": {
        "id": "b9a881c0-ee9f-43f0-9553-9b252813e3c9"
      },
      "outputs": [],
      "source": [
        "# 1\n",
        "\n",
        "\n",
        "import numpy as np\n",
        "\n",
        "class Perceptron:\n",
        "    def __init__(self, eta=0.01, n_iter=50, random_state=1):\n",
        "        self.eta = eta\n",
        "        self.n_iter = n_iter\n",
        "        self.random_state = random_state\n",
        "\n",
        "    def fit(self, X, y):\n",
        "        rgen = np.random.RandomState(self.random_state)\n",
        "        self.w_ = rgen.normal(loc=0.0, scale=0.01, size=1 + X.shape[1])\n",
        "        self.errors_ = []\n",
        "        for _ in range(self.n_iter):\n",
        "            errors = 0\n",
        "            for xi, target in zip(X, y):\n",
        "                update = self.eta * (target - self.predict(xi))\n",
        "                self.w_[1:] += update * xi\n",
        "                self.w_[0] += update\n",
        "                errors += int(update != 0.0)\n",
        "            self.errors_.append(errors)\n",
        "        return self\n",
        "\n",
        "    def net_input(self, X):\n",
        "        return np.dot(X, self.w_[1:]) + self.w_[0]\n",
        "\n",
        "    def predict(self, X):\n",
        "        return np.where(self.net_input(X) >= 0.0, 1, -1)"
      ]
    },
    {
      "cell_type": "code",
      "execution_count": 9,
      "id": "8444411c-36aa-46f5-b9db-e8f58223137a",
      "metadata": {
        "id": "8444411c-36aa-46f5-b9db-e8f58223137a"
      },
      "outputs": [],
      "source": [
        "X = np.array([[2,3],[1,1],[4,5]])\n",
        "y = np.array([1,-1,1])"
      ]
    },
    {
      "cell_type": "code",
      "source": [
        "perceptron = Perceptron(eta=0.1, n_iter=10)\n",
        "perceptron.fit(X, y)"
      ],
      "metadata": {
        "colab": {
          "base_uri": "https://localhost:8080/"
        },
        "id": "_YgipeOZ19IK",
        "outputId": "fb93df04-19ee-473f-a7c5-10a85b27a2ae"
      },
      "id": "_YgipeOZ19IK",
      "execution_count": 10,
      "outputs": [
        {
          "output_type": "execute_result",
          "data": {
            "text/plain": [
              "<__main__.Perceptron at 0x7b2b84f6a5d0>"
            ]
          },
          "metadata": {},
          "execution_count": 10
        }
      ]
    },
    {
      "cell_type": "code",
      "execution_count": 11,
      "id": "7e59ce81-16e7-4af2-8372-3a4e5e0622b6",
      "metadata": {
        "id": "7e59ce81-16e7-4af2-8372-3a4e5e0622b6"
      },
      "outputs": [],
      "source": [
        "book = np.array([3, 2])\n",
        "prediction = perceptron.predict(book)"
      ]
    },
    {
      "cell_type": "code",
      "execution_count": 12,
      "id": "1709bc64-4b2a-4d18-b612-bb09c84635fe",
      "metadata": {
        "id": "1709bc64-4b2a-4d18-b612-bb09c84635fe",
        "outputId": "9f7f86df-f30d-4d9f-9c09-f9dfa96aaf57",
        "colab": {
          "base_uri": "https://localhost:8080/"
        }
      },
      "outputs": [
        {
          "output_type": "stream",
          "name": "stdout",
          "text": [
            "Prediction for book [3,2]: -1\n"
          ]
        }
      ],
      "source": [
        "print(\"Prediction for book [3,2]:\", prediction)"
      ]
    },
    {
      "cell_type": "code",
      "execution_count": 13,
      "id": "61958ace-075a-421e-b712-d7c57a433028",
      "metadata": {
        "id": "61958ace-075a-421e-b712-d7c57a433028",
        "colab": {
          "base_uri": "https://localhost:8080/"
        },
        "outputId": "a4639979-a673-48f2-b51d-f882dd990952"
      },
      "outputs": [
        {
          "output_type": "stream",
          "name": "stdout",
          "text": [
            "Errors per epoch: [2, 1, 2, 1, 1, 1, 0, 0, 0, 0]\n",
            "Total errors across 10 epochs: 8\n"
          ]
        }
      ],
      "source": [
        "# --- Print errors per epoch ---\n",
        "print(\"Errors per epoch:\", perceptron.errors_)\n",
        "\n",
        "# --- Total errors ---\n",
        "total_errors = sum(perceptron.errors_)\n",
        "print(\"Total errors across 10 epochs:\", total_errors)"
      ]
    },
    {
      "cell_type": "code",
      "execution_count": 14,
      "id": "04b83741-32ea-4bde-b42e-8b37c9d0e103",
      "metadata": {
        "id": "04b83741-32ea-4bde-b42e-8b37c9d0e103"
      },
      "outputs": [],
      "source": [
        "# 2\n",
        "\n",
        "from sklearn.datasets import load_iris\n",
        "from sklearn.linear_model import LogisticRegression\n",
        "from sklearn.svm import SVC\n",
        "import matplotlib.pyplot as plt\n",
        "\n",
        "iris = load_iris()\n",
        "X = iris.data[:100, [2,3]]\n",
        "y = iris.target[:100]\n",
        "\n",
        "lr = LogisticRegression().fit(X, y)\n",
        "svm = SVC(kernel='linear').fit(X, y)"
      ]
    },
    {
      "cell_type": "code",
      "execution_count": 15,
      "id": "d660a723-73c0-4f36-934f-6857a9f9f1a7",
      "metadata": {
        "id": "d660a723-73c0-4f36-934f-6857a9f9f1a7",
        "colab": {
          "base_uri": "https://localhost:8080/",
          "height": 407
        },
        "outputId": "61378843-74c7-40fe-f971-1565f7308b93"
      },
      "outputs": [
        {
          "output_type": "display_data",
          "data": {
            "text/plain": [
              "<Figure size 1000x400 with 2 Axes>"
            ],
            "image/png": "[encoded data removed]"
          },
          "metadata": {}
        }
      ],
      "source": [
        "import numpy as np\n",
        "import matplotlib.pyplot as plt\n",
        "from matplotlib.colors import ListedColormap\n",
        "\n",
        "# Create a meshgrid for plotting\n",
        "x_min, x_max = X[:, 0].min() - 1, X[:, 0].max() + 1\n",
        "y_min, y_max = X[:, 1].min() - 1, X[:, 1].max() + 1\n",
        "xx, yy = np.meshgrid(np.arange(x_min, x_max, 0.02),\n",
        "                     np.arange(y_min, y_max, 0.02))\n",
        "\n",
        "# Predict using both models\n",
        "Z_lr = lr.predict(np.c_[xx.ravel(), yy.ravel()]).reshape(xx.shape)\n",
        "Z_svm = svm.predict(np.c_[xx.ravel(), yy.ravel()]).reshape(xx.shape)\n",
        "\n",
        "# Plot comparison\n",
        "fig, axes = plt.subplots(1, 2, figsize=(10, 4))\n",
        "titles = ['Logistic Regression', 'Linear SVM']\n",
        "Zs = [Z_lr, Z_svm]\n",
        "\n",
        "for ax, Z, title in zip(axes, Zs, titles):\n",
        "    ax.contourf(xx, yy, Z, alpha=0.3, cmap=ListedColormap(('red', 'blue')))\n",
        "    ax.scatter(X[:, 0], X[:, 1], c=y, edgecolors='k', cmap=ListedColormap(('red', 'blue')))\n",
        "    ax.set_title(title)\n",
        "    ax.set_xlabel('Petal length (cm)')\n",
        "    ax.set_ylabel('Petal width (cm)')\n",
        "\n",
        "plt.tight_layout()\n",
        "plt.show()\n"
      ]
    },
    {
      "cell_type": "code",
      "execution_count": 18,
      "id": "f07821fb-2378-41cd-99df-d83c894a81e1",
      "metadata": {
        "id": "f07821fb-2378-41cd-99df-d83c894a81e1"
      },
      "outputs": [],
      "source": [
        "# 4\n",
        "\n",
        "import numpy as np\n",
        "from sklearn.impute import SimpleImputer\n",
        "from sklearn.preprocessing import OneHotEncoder, StandardScaler\n",
        "\n",
        "data = np.array([[np.nan,'Fiction',200],\n",
        "                 [25,'Non-fiction',150],\n",
        "                 [30,'Fiction',np.nan]], dtype=object)\n",
        "\n",
        "imputer = SimpleImputer(strategy='mean')\n",
        "data[:,0] = imputer.fit_transform(data[:,0].reshape(-1,1)).ravel()\n",
        "\n",
        "encoder = OneHotEncoder()\n",
        "categories = encoder.fit_transform(data[:,1].reshape(-1,1)).toarray()\n",
        "\n",
        "scaler = StandardScaler()\n",
        "pages = scaler.fit_transform(data[:,2].reshape(-1,1))"
      ]
    },
    {
      "cell_type": "code",
      "execution_count": null,
      "id": "9e937962-2fb5-49f3-945b-ae599748909a",
      "metadata": {
        "id": "9e937962-2fb5-49f3-945b-ae599748909a"
      },
      "outputs": [],
      "source": [
        "#4 NO CODING REQUIRED\n",
        "Just answer the question"
      ]
    },
    {
      "cell_type": "code",
      "execution_count": 22,
      "id": "c03a8f96-c093-4e36-a35c-40e7b2e8a3fd",
      "metadata": {
        "id": "c03a8f96-c093-4e36-a35c-40e7b2e8a3fd",
        "colab": {
          "base_uri": "https://localhost:8080/"
        },
        "outputId": "f418d7d5-0899-4678-c1e8-5163738bcdac"
      },
      "outputs": [
        {
          "output_type": "stream",
          "name": "stdout",
          "text": [
            "Original shape: (150, 4)\n",
            "Reduced shape: (150, 2)\n"
          ]
        }
      ],
      "source": [
        "#5\n",
        "from sklearn.datasets import load_iris\n",
        "from sklearn.decomposition import PCA\n",
        "# Load the Iris dataset\n",
        "iris = load_iris()\n",
        "\n",
        "pca = PCA(n_components=2)\n",
        "X_pca = pca.fit_transform(iris.data)\n",
        "\n",
        "print(\"Original shape:\", iris.data.shape)\n",
        "print(\"Reduced shape:\", X_pca.shape)\n"
      ]
    },
    {
      "cell_type": "code",
      "execution_count": null,
      "id": "08f503eb-d150-413f-9600-af97eecb4c64",
      "metadata": {
        "id": "08f503eb-d150-413f-9600-af97eecb4c64"
      },
      "outputs": [],
      "source": [
        "# 6 NO NEED TO CODE"
      ]
    },
    {
      "cell_type": "code",
      "execution_count": 26,
      "id": "57229d46-c812-4518-ae01-1dbf0087c9c1",
      "metadata": {
        "id": "57229d46-c812-4518-ae01-1dbf0087c9c1",
        "colab": {
          "base_uri": "https://localhost:8080/"
        },
        "outputId": "22bd74b5-6c7f-40a2-9bc2-730ba6da59ab"
      },
      "outputs": [
        {
          "output_type": "stream",
          "name": "stdout",
          "text": [
            "Random Forest accuracy: 1.0\n",
            "AdaBoost accuracy: 1.0\n"
          ]
        }
      ],
      "source": [
        "# 7.1\n",
        "\n",
        "from sklearn.datasets import load_wine\n",
        "from sklearn.ensemble import RandomForestClassifier, AdaBoostClassifier\n",
        "\n",
        "wine = load_wine()\n",
        "rf = RandomForestClassifier().fit(wine.data, wine.target)\n",
        "ada = AdaBoostClassifier().fit(wine.data, wine.target)\n",
        "\n",
        "\n"
      ]
    },
    {
      "cell_type": "code",
      "execution_count": 27,
      "id": "1fc70a4e-0f7f-402d-86fb-12a59f0cbe03",
      "metadata": {
        "id": "1fc70a4e-0f7f-402d-86fb-12a59f0cbe03",
        "colab": {
          "base_uri": "https://localhost:8080/"
        },
        "outputId": "fd7bab80-fd60-4e74-f6d3-43afb2a36e4b"
      },
      "outputs": [
        {
          "output_type": "stream",
          "name": "stdout",
          "text": [
            "[1]\n"
          ]
        }
      ],
      "source": [
        "# 8 from sklearn.feature_extraction.text import TfidfVectorizer\n",
        "from sklearn.linear_model import LogisticRegression\n",
        "from sklearn.feature_extraction.text import TfidfVectorizer\n",
        "docs = [\"I loved the book\", \"Terrible story\", \"Amazing characters\"]\n",
        "y = [1,0,1]\n",
        "\n",
        "tfidf = TfidfVectorizer()\n",
        "X = tfidf.fit_transform(docs)\n",
        "\n",
        "clf = LogisticRegression().fit(X,y)\n",
        "print(clf.predict(tfidf.transform([\"The book was good\"])))"
      ]
    },
    {
      "cell_type": "code",
      "execution_count": 28,
      "id": "4e0ad361-bbfa-44d4-8754-d5ef3ff4d9b3",
      "metadata": {
        "id": "4e0ad361-bbfa-44d4-8754-d5ef3ff4d9b3",
        "colab": {
          "base_uri": "https://localhost:8080/"
        },
        "outputId": "a702a15d-0863-4f9a-8051-3e3e4bb83f3d"
      },
      "outputs": [
        {
          "output_type": "stream",
          "name": "stdout",
          "text": [
            "Data loaded successfully\n",
            "Data shape: (20640, 8)\n",
            "Training Linear Regression...\n",
            "LR RMSE: 0.7241001216576387\n",
            "Training Random Forest... (this may take a while)\n",
            "RF RMSE: 0.22372516864471548\n",
            "Script completed!\n"
          ]
        }
      ],
      "source": [
        "#9\n",
        "\n",
        "from sklearn.datasets import fetch_california_housing\n",
        "from sklearn.linear_model import LinearRegression\n",
        "from sklearn.ensemble import RandomForestRegressor\n",
        "from sklearn.metrics import mean_squared_error\n",
        "import numpy as np\n",
        "\n",
        "# Load data\n",
        "data = fetch_california_housing()\n",
        "X, y = data.data, data.target\n",
        "\n",
        "print(\"Data loaded successfully\", flush=True)\n",
        "print(f\"Data shape: {X.shape}\", flush=True)\n",
        "\n",
        "# Linear Regression (fast)\n",
        "print(\"Training Linear Regression...\", flush=True)\n",
        "lr = LinearRegression().fit(X, y)\n",
        "lr_mse = mean_squared_error(y, lr.predict(X))\n",
        "lr_rmse = np.sqrt(lr_mse)  # Manual calculation of RMSE\n",
        "print(\"LR RMSE:\", lr_rmse, flush=True)\n",
        "\n",
        "# Random Forest (can be slow)\n",
        "print(\"Training Random Forest... (this may take a while)\", flush=True)\n",
        "rf = RandomForestRegressor(n_estimators=10, random_state=42)  # Reduced for speed\n",
        "rf.fit(X, y)\n",
        "rf_mse = mean_squared_error(y, rf.predict(X))\n",
        "rf_rmse = np.sqrt(rf_mse)  # Manual calculation of RMSE\n",
        "print(\"RF RMSE:\", rf_rmse, flush=True)\n",
        "\n",
        "print(\"Script completed!\", flush=True)"
      ]
    },
    {
      "cell_type": "code",
      "execution_count": 29,
      "id": "3b54c39a-7026-42d3-9535-ed6cc1c4da29",
      "metadata": {
        "id": "3b54c39a-7026-42d3-9535-ed6cc1c4da29",
        "colab": {
          "base_uri": "https://localhost:8080/"
        },
        "outputId": "4839bc90-6d54-4216-a412-62a6d1711771"
      },
      "outputs": [
        {
          "output_type": "stream",
          "name": "stdout",
          "text": [
            "[1 1 1 1 1 1 1 1 1 1]\n"
          ]
        }
      ],
      "source": [
        "\n",
        "#10\n",
        "from sklearn.cluster import KMeans\n",
        "from sklearn.datasets import load_iris\n",
        "\n",
        "# Load the iris dataset\n",
        "iris = load_iris()\n",
        "\n",
        "# Perform K-means clustering\n",
        "km = KMeans(n_clusters=3, random_state=1).fit(iris.data)\n",
        "\n",
        "# Print first 10 cluster labels\n",
        "print(km.labels_[:10])"
      ]
    }
  ],
  "metadata": {
    "kernelspec": {
      "display_name": "Python 3 (ipykernel)",
      "language": "python",
      "name": "python3"
    },
    "language_info": {
      "codemirror_mode": {
        "name": "ipython",
        "version": 3
      },
      "file_extension": ".py",
      "mimetype": "text/x-python",
      "name": "python",
      "nbconvert_exporter": "python",
      "pygments_lexer": "ipython3",
      "version": "3.12.3"
    },
    "colab": {
      "provenance": [],
      "include_colab_link": true
    }
  },
  "nbformat": 4,
  "nbformat_minor": 5
}